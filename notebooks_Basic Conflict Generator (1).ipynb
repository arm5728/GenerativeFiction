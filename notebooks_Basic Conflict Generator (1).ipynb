{
  "metadata": {
    "kernelspec": {
      "display_name": "Pyolite",
      "language": "python",
      "name": "python"
    },
    "language_info": {
      "codemirror_mode": {
        "name": "python",
        "version": 3
      },
      "file_extension": ".py",
      "mimetype": "text/x-python",
      "name": "python",
      "nbconvert_exporter": "python",
      "pygments_lexer": "ipython3",
      "version": "3.8"
    }
  },
  "nbformat_minor": 5,
  "nbformat": 4,
  "cells": [
    {
      "cell_type": "markdown",
      "source": "# 0.1 Very Very Basic Idea \nA common writing practice is to try an create a story from a random word bank. This often works because creativity is boosted by constraints, and the fear of the blank page is alleviated. With this program I aim to tighten the constraints even further without removing the element of randomness by assigning potential relations to sets of words. Our minds are hyperassociative and should be able to come up with arbitrary connections for these elements.\n\nOne of the best (or maybe more approprately, 'least shitty') of my stories came as a result of the 'word bank' method, since it forced me into originality by abandoning my commmon and low-resistance methods.  I'm curious to see what can come about from these experiments.\n\nThis is a generative method, not an ML method (that would pretty much be impossible to collect data for)\n\nRight now, this only generates a random conflict, with some intermidiaries. As Franzen said 'if you have a conflict you have a story'",
      "metadata": {},
      "id": "a5a06e73-f87e-41ae-8d45-b53d45f92f00"
    },
    {
      "cell_type": "code",
      "source": "import random\nimport copy",
      "metadata": {
        "trusted": true
      },
      "execution_count": 18,
      "outputs": [],
      "id": "535842ef-8ce7-4abb-a699-3806f109d66b"
    },
    {
      "cell_type": "code",
      "source": "# Pop random element of list\ndef pop_random(lst):\n    idx = random.randrange(0, len(lst))\n    return lst.pop(idx)",
      "metadata": {
        "trusted": true
      },
      "execution_count": 19,
      "outputs": [],
      "id": "6261cd31-e447-48ab-8144-d6ec6b9e828b"
    },
    {
      "cell_type": "code",
      "source": "# list of random elements\nword_bank = ['wrestler', 'bureaucracy', 'prince', 'disease', 'coffee']\noriginal_word_bank = word_bank[:]\n\n# hyperparameters\nmax_num_ideas = 10\nnum_intermediaries = 2\n\n# already generated core pairs\ncore_pairs = []\n\nfor idea in range (0, max_num_ideas):\n    print('Idea', idea)\n    \n    #Generate Core Pair\n    current_core_pair = (pop_random(word_bank), pop_random(word_bank))\n    \n    #Check if Core Pair was already generated\n    if (current_core_pair in core_pairs) or (tuple(reversed(current_core_pair)) in core_pairs):\n        word_bank = original_word_bank[:]\n        print('\\talready generated')\n        continue \n        \n    core_pairs.append(current_core_pair)\n    print('\\tCore Conflict:', current_core_pair[0], 'vs.', current_core_pair[1])\n        \n    for num in range(0, num_intermediaries):\n        print('\\tIntermidiary', num, ':', current_core_pair[0], '<->',pop_random(word_bank),'<->', current_core_pair[1])\n        \n    word_bank = original_word_bank[:]",
      "metadata": {
        "trusted": true
      },
      "execution_count": 24,
      "outputs": [
        {
          "name": "stdout",
          "text": "Idea 0\n\tCore Conflict: prince vs. bureaucracy\n\tIntermidiary 0 : prince <-> giant tree <-> bureaucracy\n\tIntermidiary 1 : prince <-> coffee <-> bureaucracy\nIdea 1\n\tCore Conflict: prince vs. giant tree\n\tIntermidiary 0 : prince <-> wrestler <-> giant tree\n\tIntermidiary 1 : prince <-> coffee <-> giant tree\nIdea 2\n\tCore Conflict: prince vs. coffee\n\tIntermidiary 0 : prince <-> giant tree <-> coffee\n\tIntermidiary 1 : prince <-> wrestler <-> coffee\nIdea 3\n\tCore Conflict: wrestler vs. prince\n\tIntermidiary 0 : wrestler <-> bureaucracy <-> prince\n\tIntermidiary 1 : wrestler <-> giant tree <-> prince\nIdea 4\n\talready generated\nIdea 5\n\tCore Conflict: giant tree vs. bureaucracy\n\tIntermidiary 0 : giant tree <-> wrestler <-> bureaucracy\n\tIntermidiary 1 : giant tree <-> coffee <-> bureaucracy\nIdea 6\n\tCore Conflict: giant tree vs. coffee\n\tIntermidiary 0 : giant tree <-> bureaucracy <-> coffee\n\tIntermidiary 1 : giant tree <-> wrestler <-> coffee\nIdea 7\n\talready generated\nIdea 8\n\talready generated\nIdea 9\n\talready generated\n",
          "output_type": "stream"
        }
      ],
      "id": "a5d7e1de-07f4-49ac-a4c4-ab9b31852a37"
    },
    {
      "cell_type": "markdown",
      "source": "### Current Improvment Ideas\n\n- Split by subject - action/event\n\n- Allow for modifier layer after base layer",
      "metadata": {},
      "id": "ae0f6160-d333-4d99-9388-0eaa6a22984d"
    }
  ]
}